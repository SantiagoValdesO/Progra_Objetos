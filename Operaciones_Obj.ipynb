{
  "nbformat": 4,
  "nbformat_minor": 0,
  "metadata": {
    "colab": {
      "provenance": [],
      "authorship_tag": "ABX9TyNAk+2YNADWQrbpk4EDu3j4",
      "include_colab_link": true
    },
    "kernelspec": {
      "name": "python3",
      "display_name": "Python 3"
    },
    "language_info": {
      "name": "python"
    }
  },
  "cells": [
    {
      "cell_type": "markdown",
      "metadata": {
        "id": "view-in-github",
        "colab_type": "text"
      },
      "source": [
        "<a href=\"https://colab.research.google.com/github/SantiagoValdesO/Progra_Objetos/blob/main/Operaciones_Obj.ipynb\" target=\"_parent\"><img src=\"https://colab.research.google.com/assets/colab-badge.svg\" alt=\"Open In Colab\"/></a>"
      ]
    },
    {
      "cell_type": "code",
      "execution_count": 7,
      "metadata": {
        "id": "Xu6I27oG6ArE"
      },
      "outputs": [],
      "source": [
        "class Operaciones:\n",
        "  def __init__(self, num1=0, num2=0):\n",
        "    self.num1 = num1\n",
        "    self.num2 = num2\n",
        "    self.resultado = 0\n",
        "    self.msg = \"\"\n",
        "\n",
        "  def suma(self):\n",
        "    self.msg =\"La suma de \" ,self.num1, \" + \" ,self.num1, \" es: \"\n",
        "    self.resultado = self.num1 + self.num2\n",
        "\n",
        "  def resta(self):\n",
        "    self.msg =\"La resta de \" ,self.num1, \" - \" ,self.num1, \" es: \"\n",
        "    self.resultado = self.num1 - self.num2\n",
        "\n",
        "  def division(self):\n",
        "    self.msg =\"La division de \" ,self.num1, \" / \" ,self.num1, \" es: \"\n",
        "    self.resultado = self.num1 / self.num2\n",
        "\n",
        "  def multiplicacion(self):\n",
        "    self.msg =\"La multiplicacion de \", self.num1 ,\" * \" ,self.num1, \" es: \"\n",
        "    self.resultado = self.num1 * self.num2\n",
        "\n",
        "  def imprimir(self):\n",
        "    print(self.msg, self.resultado)\n",
        ""
      ]
    },
    {
      "cell_type": "code",
      "source": [
        "obj = Operaciones()\n",
        "obj.num1 = int(input(\"Ingrese un numero: \"))\n",
        "obj.num2 = int(input(\"Ingrese un numero: \"))\n",
        "\n",
        "obj.suma()\n",
        "obj.imprimir()\n",
        "\n",
        "obj.resta()\n",
        "obj.imprimir()\n",
        "\n",
        "obj.division()\n",
        "obj.imprimir()\n",
        "\n",
        "obj.multiplicacion()\n",
        "obj.imprimir()"
      ],
      "metadata": {
        "colab": {
          "base_uri": "https://localhost:8080/"
        },
        "id": "i2EFoIFv7Hz9",
        "outputId": "45f5b799-7353-40a7-9fb9-5da6d8515f74"
      },
      "execution_count": 8,
      "outputs": [
        {
          "output_type": "stream",
          "name": "stdout",
          "text": [
            "Ingrese un numero: 5\n",
            "Ingrese un numero: 4\n",
            "('La suma de ', 5, ' + ', 5, ' es: ') 9\n",
            "('La resta de ', 5, ' - ', 5, ' es: ') 1\n",
            "('La division de ', 5, ' / ', 5, ' es: ') 1.25\n",
            "('La multiplicacion de ', 5, ' * ', 5, ' es: ') 20\n"
          ]
        }
      ]
    }
  ]
}