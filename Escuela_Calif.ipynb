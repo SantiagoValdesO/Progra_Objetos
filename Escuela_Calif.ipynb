{
  "nbformat": 4,
  "nbformat_minor": 0,
  "metadata": {
    "colab": {
      "provenance": [],
      "authorship_tag": "ABX9TyOAHbVO8tQQ+uPD8Dpy8aSf",
      "include_colab_link": true
    },
    "kernelspec": {
      "name": "python3",
      "display_name": "Python 3"
    },
    "language_info": {
      "name": "python"
    }
  },
  "cells": [
    {
      "cell_type": "markdown",
      "metadata": {
        "id": "view-in-github",
        "colab_type": "text"
      },
      "source": [
        "<a href=\"https://colab.research.google.com/github/SantiagoValdesO/Progra_Objetos/blob/main/Escuela_Calif.ipynb\" target=\"_parent\"><img src=\"https://colab.research.google.com/assets/colab-badge.svg\" alt=\"Open In Colab\"/></a>"
      ]
    },
    {
      "cell_type": "code",
      "execution_count": null,
      "metadata": {
        "id": "wFwhGPv1qrdk"
      },
      "outputs": [],
      "source": [
        "\n",
        "class Escuela():\n",
        "    def __init__(self):\n",
        "        self.nombres = []\n",
        "        self.calificaciones1 = []\n",
        "        self.calificaciones2 = []\n",
        "        self.calificaciones3 = []\n",
        "        self.promedios = []\n",
        "    def ingresar(self):\n",
        "        resp = \"s\"\n",
        "        while resp == \"s\":\n",
        "            nombre = input(\"Ingrese el nombre del alumno: \")\n",
        "            calificacion1 = int(input(\"Ingrese la calificación 1: \"))\n",
        "            calificacion2 = int(input(\"Ingrese la calificación 2: \"))\n",
        "            calificacion3 = int(input(\"Ingrese la calificación 3: \"))\n",
        "            self.nombres.append(nombre)\n",
        "            self.calificaciones1.append(calificacion1)\n",
        "            self.calificaciones2.append(calificacion2)\n",
        "            self.calificaciones3.append(calificacion3)\n",
        "            promedio = (calificacion1 + calificacion2 + calificacion3) / 3\n",
        "            self.promedios.append(promedio)\n",
        "            resp = input(\"¿Desea agregar otro alumno? (s/n): \")\n",
        "    def resultados(self):\n",
        "        for i in range(len(self.nombres)):\n",
        "            nombre = self.nombres[i]\n",
        "            calificacion1 = self.calificaciones1[i]\n",
        "            calificacion2 = self.calificaciones2[i]\n",
        "            calificacion3 = self.calificaciones3[i]\n",
        "            promedio = self.promedios[i]\n",
        "\n",
        "            print(\"Alumno: \", nombre)\n",
        "            print(\"Calificaciones: \", calificacion1, calificacion2, calificacion3)\n",
        "            print(\"Promedio: \", promedio)\n",
        "\n",
        "            if promedio >= 9:\n",
        "                print(\"Resultado: Aprobado\")\n",
        "            elif promedio <= 7:\n",
        "                print(\"Resultado: Reprobado\")\n",
        "            else:\n",
        "                print(\"Resultado: Necesita mejorar\")\n",
        "            print(\" \" * 20)\n",
        "\n",
        "\n",
        "escuela = Escuela()\n",
        "escuela.ingresar()\n",
        "escuela.resultados()\n",
        "\n"
      ]
    }
  ]
}