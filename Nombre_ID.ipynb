{
  "nbformat": 4,
  "nbformat_minor": 0,
  "metadata": {
    "colab": {
      "provenance": [],
      "authorship_tag": "ABX9TyMzSJeC181fn1nXTwvVY1Tl",
      "include_colab_link": true
    },
    "kernelspec": {
      "name": "python3",
      "display_name": "Python 3"
    },
    "language_info": {
      "name": "python"
    }
  },
  "cells": [
    {
      "cell_type": "markdown",
      "metadata": {
        "id": "view-in-github",
        "colab_type": "text"
      },
      "source": [
        "<a href=\"https://colab.research.google.com/github/SantiagoValdesO/Progra_Objetos/blob/main/Nombre_ID.ipynb\" target=\"_parent\"><img src=\"https://colab.research.google.com/assets/colab-badge.svg\" alt=\"Open In Colab\"/></a>"
      ]
    },
    {
      "cell_type": "code",
      "execution_count": 1,
      "metadata": {
        "colab": {
          "base_uri": "https://localhost:8080/"
        },
        "id": "d4yxn_b0iguO",
        "outputId": "566dcef8-2059-49f6-d1c7-196d7025f323"
      },
      "outputs": [
        {
          "output_type": "stream",
          "name": "stdout",
          "text": [
            "-- Ingresa los datos de la persona --\n",
            "Persona  1\n",
            "Nombre: santi\n",
            "Identificacion: 123\n",
            "Mostrando los datos de la persona... 1\n",
            "Nombre:  santi\n",
            "Identificacion:  123\n",
            "Desea continuar? (s/n): s\n",
            "['santi']\n",
            "['123']\n",
            "Persona  2\n",
            "Nombre: santiago\n",
            "Identificacion: 456\n",
            "Mostrando los datos de la persona... 1\n",
            "Nombre:  santi\n",
            "Identificacion:  123\n",
            "Mostrando los datos de la persona... 2\n",
            "Nombre:  santiago\n",
            "Identificacion:  456\n",
            "Desea continuar? (s/n): n\n",
            "['santi', 'santiago']\n",
            "['123', '456']\n"
          ]
        }
      ],
      "source": [
        "\n",
        "\n",
        "nombres = []\n",
        "identificaciones = []\n",
        "\n",
        "tamaño = 0\n",
        "resp = \"s\"\n",
        "\n",
        "print(\"-- Ingresa los datos de la persona --\")\n",
        "\n",
        "while resp == \"s\":\n",
        "    print(\"Persona \", tamaño + 1)\n",
        "\n",
        "    nombre = input(\"Nombre: \")\n",
        "    identificacion = input(\"Identificacion: \")\n",
        "    nombres.append(nombre)\n",
        "    identificaciones.append(identificacion)\n",
        "\n",
        "    for i in range(len(nombres)):\n",
        "        print(\"Mostrando los datos de la persona...\", i+1)\n",
        "        print(\"Nombre: \", nombres[i])\n",
        "        print(\"Identificacion: \", identificaciones[i])\n",
        "\n",
        "    resp = input(\"Desea continuar? (s/n): \")\n",
        "    tamaño += 1\n",
        "\n",
        "    print(nombres)\n",
        "    print(identificaciones)\n",
        "\n",
        "\n",
        "\n",
        "\n",
        "\n",
        "\n",
        "\n",
        "\n",
        "\n",
        "\n",
        "\n",
        "\n",
        "\n",
        "\n",
        "\n",
        "\n",
        "\n",
        "\n",
        "\n",
        "\n"
      ]
    }
  ]
}